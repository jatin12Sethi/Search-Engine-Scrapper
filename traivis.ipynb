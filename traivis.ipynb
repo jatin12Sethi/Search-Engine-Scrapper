{
  "cells": [
    {
      "cell_type": "code",
      "execution_count": 27,
      "metadata": {
        "id": "TBiyF8u0vyPQ"
      },
      "outputs": [],
      "source": [
        "#Make a request to a web page\n",
        "import requests \n",
        "# transfer data on the web and to store configuration settings \n",
        "import json\n",
        "import html.parser\n",
        "#HTML parser is a structured markup processing tool. It defines a class called HTMLParser\n",
        "\n",
        "# HTML parsing involves tokenization and tree construction. HTML tokens include start and end tags, as well as attribute names and values.\n",
        "# If the document is well-formed, parsing it is straightforward and faster. The parser parses tokenized input into the document, building up the document tree."
      ]
    },
    {
      "cell_type": "code",
      "execution_count": 28,
      "metadata": {
        "id": "U1ij0C3Av575"
      },
      "outputs": [],
      "source": [
        "class HTMLTextExtractor(html.parser.HTMLParser):\n",
        "    def __init__(self):\n",
        "        super(HTMLTextExtractor, self).__init__()\n",
        "        self.result = [ ]\n",
        "\n",
        "    def handle_data(self, d):\n",
        "        self.result.append(d)\n",
        "\n",
        "    def get_text(self):\n",
        "        return ''.join(self.result)\n",
        "\n",
        "def html_to_text(html):\n",
        "\n",
        "    s = HTMLTextExtractor()\n",
        "    s.feed(html)\n",
        "    return s.get_text()"
      ]
    },
    {
      "cell_type": "code",
      "execution_count": 40,
      "metadata": {
        "colab": {
          "base_uri": "https://localhost:8080/"
        },
        "id": "CU9e5EXtw5zP",
        "outputId": "89cccfe1-4ccf-44c9-b902-350d9a2e4679"
      },
      "outputs": [
        {
          "output_type": "stream",
          "name": "stdout",
          "text": [
            "Enter The Word !Java\n",
            "['how Java', 'what Java', 'when Java', 'where Java']\n"
          ]
        }
      ],
      "source": [
        "query_list=['how','what','when','where']\n",
        "search_query=input(\"Enter The Word !\")\n",
        "search_query_list=[]\n",
        "for i in query_list:\n",
        "  search_query_list.append(i+\" \"+search_query)\n",
        "print(search_query_list)\n",
        "language = \"en\"\n",
        "country_code =\"IN\"\n",
        "###############################\n",
        "client = \"gws-wiz\"\n",
        "authuser = 0\n",
        "params = {\n",
        "    'q':search_query_list[1],\n",
        "    'cp':3,\n",
        "    'client':client,\n",
        "    'hl':\"{0}-{1}\".format(language, country_code),\n",
        "    'authuser':0,\n",
        "    'dpr':1,\n",
        "    }\n",
        "headers = {\n",
        "    'authority': 'ogs.google.com',\n",
        "    'sec-ch-ua': '\" Not A;Brand\";v=\"99\", \"Chromium\";v=\"98\", \"Google Chrome\";v=\"98\"',\n",
        "    'sec-ch-ua-mobile': '?0',\n",
        "    'sec-ch-ua-platform': '\"Chrome OS\"',\n",
        "    'upgrade-insecure-requests': '1',\n",
        "    'user-agent': 'Mozilla/5.0 (X11; CrOS x86_64 14388.52.0) AppleWebKit/537.36 (KHTML, like Gecko) Chrome/98.0.4758.91 Safari/537.36',\n",
        "    'accept': 'text/html,application/xhtml+xml,application/xml;q=0.9,image/avif,image/webp,image/apng,*/*;q=0.8,application/signed-exchange;v=b3;q=0.9',\n",
        "    'x-chrome-connected': 'source=Chrome,mode=0,enable_account_consistency=true,supervised=false,consistency_enabled_by_default=false',\n",
        "    'x-client-data': 'CJG2yQEIprbJAQipncoBCJbpygEIt6DLAQiTocsBCOvyywEInvnLAQiljswBCIGkzAE=',\n",
        "    'sec-fetch-site': 'same-site',\n",
        "    'sec-fetch-mode': 'navigate',\n",
        "    'sec-fetch-dest': 'iframe',\n",
        "    'referer': 'https://www.google.com/',\n",
        "    'accept-language': 'en-US,en;q=0.9',\n",
        "    # Requests sorts cookies= alphabetically\n",
        "    # 'cookie': 'SID=KgipsdC3Yxa9m7JCFiSf9ERCriYX3tio-sdln7YpWH15A05EkNn3lzEaOxsxKB_j73HZ8Q.; __Secure-1PSID=KgipsdC3Yxa9m7JCFiSf9ERCriYX3tio-sdln7YpWH15A05EDjjIiujZe5PuNwI0jKTIUQ.; __Secure-3PSID=KgipsdC3Yxa9m7JCFiSf9ERCriYX3tio-sdln7YpWH15A05EgV9PEOK8KcjRZ-uQ-V6-3A.; HSID=A4EPy3YgwJXM51l6-; SSID=Ay5kAM2fDjIkfmpCX; APISID=Akv6x6eGTTq5dDC0/AMwo4EQGB5jsZRP11; SAPISID=Xdgah6CYZtLA1H0L/AlykPZRaBrmcFhebU; __Secure-1PAPISID=Xdgah6CYZtLA1H0L/AlykPZRaBrmcFhebU; __Secure-3PAPISID=Xdgah6CYZtLA1H0L/AlykPZRaBrmcFhebU; OTZ=6519179_34_34__34_; SEARCH_SAMESITE=CgQIwZUB; 1P_JAR=2022-05-25-06; NID=511=Vl8RZrmSnFRPwPAlCvStF4RZ5FRWrRCOngQ0jhVt8Lw5f-p8a-PyCbT_XdrJERuW932YfBn2AWGB6D_Msimu6gIBgM0eI47WAtWtHAiz6A3E3WoU8AaiRhsUlw3K9VBHTkS-DEXd6AEU96t60oe-ZIj9A9XVT1WKKIUdAsmHY5qhgRuqwst2Yif6s98aIFy8vMaoZ3K6rgU6hQCFbBU06M-hgy-ByRuvhph2V79vJBWXeT9Rcbh__pRmGnfv3K8Bh2oYngp2inVqlNxgxdqaFOvsrJWpFWIuC9JFJkCEAg; OGPC=19022519-1:; AEC=AakniGO1bomcWh2W_Hjby5dk15zIQE-zegTw55ljJQPb_rcF9eh_q2bycyM; SIDCC=AJi4QfHXY7354Db5dHXtuotnTXiDpiZeT500CGU_-gH7aV4aUGXrj6lieYU4l6U2tvWfhMWShA; __Secure-3PSIDCC=AJi4QfHU6C6zb0AcfqPm0l553V_uOB4y_wjFuhXD24na1ABfq53RoHU4_h1gW3rOAw0WAYzt6g',\n",
        "    }"
      ]
    },
    {
      "cell_type": "code",
      "execution_count": 41,
      "metadata": {
        "id": "h7yvR7UAw-wt"
      },
      "outputs": [],
      "source": [
        "resp = requests.get(\"https://www.google.com/complete/search\", params = params, headers=headers)\n"
      ]
    },
    {
      "cell_type": "markdown",
      "metadata": {
        "id": "uC8mPsNALA3r"
      },
      "source": []
    },
    {
      "cell_type": "code",
      "execution_count": 42,
      "metadata": {
        "colab": {
          "base_uri": "https://localhost:8080/"
        },
        "id": "gXEZ61O-xEp7",
        "outputId": "26f93d06-f718-4127-ac78-1bc98f199a22"
      },
      "outputs": [
        {
          "output_type": "stream",
          "name": "stdout",
          "text": [
            "[[['what java version do i have</b>', 0, [512]], ['what javascript is used for</b>', 0, [512]], ['what java', 0, [512]], ['what java version for minecraft 1.19</b>', 0, [512]], ['what javascript</b>', 0, [512]], ['what java is used for</b>', 0, [512]], ['what javascript can do</b>', 0, [512]], ['what java developer do</b>', 0, [512]], ['what java do i need for minecraft</b>', 0, [512]], ['what java can do</b>', 0, [512]]], {'q': '5JILwg_vonwZ7czZ1aJKmjMelDM'}]\n"
          ]
        },
        {
          "output_type": "stream",
          "name": "stderr",
          "text": [
            "/usr/local/lib/python3.7/dist-packages/ipykernel_launcher.py:4: DeprecationWarning: invalid escape sequence '\\/'\n",
            "  after removing the cwd from sys.path.\n"
          ]
        }
      ],
      "source": [
        "from posixpath import sep\n",
        "json_suggestions = resp.text.replace(\"window.google.ac.h(\", \"\")\n",
        "json_suggestions =  json_suggestions[:-1]\n",
        "final_tuple = json.loads(html_to_text(json_suggestions.encode('ascii').decode('unicode-escape')))\n",
        "print(final_tuple)\n",
        "f = open(\"myfile.txt\", \"w\")\n",
        "for x in final_tuple[0]:\n",
        "  f.writelines(repr(html_to_text(x[0])))\n",
        "  # print(repr(html_to_text(x[0])))\n",
        "f.close()"
      ]
    },
    {
      "cell_type": "code",
      "execution_count": 43,
      "metadata": {
        "id": "e6SUIW3RZlCV",
        "colab": {
          "base_uri": "https://localhost:8080/"
        },
        "outputId": "21fed0c2-8764-482f-a968-ca3274579542"
      },
      "outputs": [
        {
          "output_type": "stream",
          "name": "stdout",
          "text": [
            "'what java version do i have''what javascript is used for''what java''what java version for minecraft 1.19''what javascript''what java is used for''what javascript can do''what java developer do''what java do i need for minecraft''what java can do'\n"
          ]
        }
      ],
      "source": [
        "f = open(\"myfile.txt\", \"r\")\n",
        "#('r’) opens the text files for reading only\n",
        "print(f.readline())"
      ]
    },
    {
      "cell_type": "markdown",
      "source": [
        "how html parser is working "
      ],
      "metadata": {
        "id": "DH1jW8ht5uCd"
      }
    },
    {
      "cell_type": "code",
      "source": [
        "from html.parser import HTMLParser\n",
        "\n",
        "class MyHTMLParser(HTMLParser):\n",
        "\n",
        "    def __init__(self):\n",
        "        super().__init__()\n",
        "        self.data = []\n",
        "        self.capture = False\n",
        "\n",
        "    def handle_starttag(self, tag, attrs):\n",
        "        if tag in ('p', 'h1'):\n",
        "            self.capture = True\n",
        "#A boolean value indicating that events of this\n",
        "#  type will be dispatched to the registered listener before being dispatched to any EventTarget beneath it in the DOM tree. If not specified, defaults to false.\n",
        "    def handle_endtag(self, tag):\n",
        "        if tag in ('p', 'h1'):\n",
        "            self.capture = False\n",
        "\n",
        "    def handle_data(self, data):\n",
        "        if self.capture:\n",
        "            self.data.append(data)\n",
        "\n",
        "parser = MyHTMLParser()\n",
        "parser.feed('<html><head><title>Test</title></head>'\n",
        "            '<body><h1>Parse me!</h1><p>This is P tag</p></body></html>')\n",
        "\n",
        "print(parser.data)"
      ],
      "metadata": {
        "id": "rkrk1WQXjr0V",
        "colab": {
          "base_uri": "https://localhost:8080/"
        },
        "outputId": "1d9ef8b8-c65d-460c-ff4a-e63c36cef623"
      },
      "execution_count": 10,
      "outputs": [
        {
          "output_type": "stream",
          "name": "stdout",
          "text": [
            "['Parse me!', 'This is P tag']\n"
          ]
        }
      ]
    },
    {
      "cell_type": "code",
      "source": [],
      "metadata": {
        "id": "CgTAr4k150Zb"
      },
      "execution_count": null,
      "outputs": []
    }
  ],
  "metadata": {
    "colab": {
      "provenance": []
    },
    "kernelspec": {
      "display_name": "Python 3",
      "name": "python3"
    },
    "language_info": {
      "name": "python"
    }
  },
  "nbformat": 4,
  "nbformat_minor": 0
}