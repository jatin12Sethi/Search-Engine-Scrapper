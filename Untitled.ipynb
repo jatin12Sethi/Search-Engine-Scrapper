{
 "cells": [
  {
   "cell_type": "code",
   "execution_count": 1,
   "id": "f0b5e5b7",
   "metadata": {},
   "outputs": [],
   "source": [
    "#Make a request to a web page\n",
    "import requests \n",
    "# transfer data on the web and to store configuration settings \n",
    "import json\n",
    "import html.parser\n",
    "#HTML parser is a structured markup processing tool. It defines a class called HTMLParser\n",
    "\n",
    "# HTML parsing involves tokenization and tree construction. HTML tokens include start and end tags, as well as attribute names and values.\n",
    "# If the document is well-formed, parsing it is straightforward and faster. The parser parses tokenized input into the document, building up the document tree."
   ]
  },
  {
   "cell_type": "code",
   "execution_count": 2,
   "id": "414bd1a6",
   "metadata": {},
   "outputs": [],
   "source": [
    "class HTMLTextExtractor(html.parser.HTMLParser):\n",
    "    def __init__(self):\n",
    "        super(HTMLTextExtractor, self).__init__()\n",
    "        self.result = [ ]\n",
    "\n",
    "    def handle_data(self, d):\n",
    "        self.result.append(d)\n",
    "\n",
    "    def get_text(self):\n",
    "        return ''.join(self.result)\n",
    "\n",
    "def html_to_text(html):\n",
    "\n",
    "    s = HTMLTextExtractor()\n",
    "    s.feed(html)\n",
    "    return s.get_text()"
   ]
  },
  {
   "cell_type": "code",
   "execution_count": 27,
   "id": "c324a4f5",
   "metadata": {},
   "outputs": [
    {
     "name": "stdout",
     "output_type": "stream",
     "text": [
      "Enter The Word !java\n",
      "['how java', 'what java', 'when java', 'where java']\n"
     ]
    }
   ],
   "source": [
    "query_list=['how','what','when','where']\n",
    "search_query=input(\"Enter The Word !\")\n",
    "search_query_list=[]\n",
    "for i in query_list:\n",
    "  search_query_list.append(i+\" \"+search_query)\n",
    "print(search_query_list)\n",
    "language = \"en\"\n",
    "country_code =\"IN\"\n",
    "###############################\n",
    "client = \"gws-wiz\"\n",
    "authuser = 0\n",
    "#params = {\n",
    "#    'q':search_query_list[0],\n",
    "#    'cp':3,\n",
    "#    'client':client,\n",
    "#    'hl':\"{0}-{1}\".format(language, country_code),\n",
    "#    'authuser':0,\n",
    "#    'dpr':1,\n",
    "#    }\n",
    "headers = {\n",
    "    'authority': 'ogs.google.com',\n",
    "    'sec-ch-ua': '\" Not A;Brand\";v=\"99\", \"Chromium\";v=\"98\", \"Google Chrome\";v=\"98\"',\n",
    "    'sec-ch-ua-mobile': '?0',\n",
    "    'sec-ch-ua-platform': '\"Chrome OS\"',\n",
    "    'upgrade-insecure-requests': '1',\n",
    "    'user-agent': 'Mozilla/5.0 (X11; CrOS x86_64 14388.52.0) AppleWebKit/537.36 (KHTML, like Gecko) Chrome/98.0.4758.91 Safari/537.36',\n",
    "    'accept': 'text/html,application/xhtml+xml,application/xml;q=0.9,image/avif,image/webp,image/apng,*/*;q=0.8,application/signed-exchange;v=b3;q=0.9',\n",
    "    'x-chrome-connected': 'source=Chrome,mode=0,enable_account_consistency=true,supervised=false,consistency_enabled_by_default=false',\n",
    "    'x-client-data': 'CJG2yQEIprbJAQipncoBCJbpygEIt6DLAQiTocsBCOvyywEInvnLAQiljswBCIGkzAE=',\n",
    "    'sec-fetch-site': 'same-site',\n",
    "    'sec-fetch-mode': 'navigate',\n",
    "    'sec-fetch-dest': 'iframe',\n",
    "    'referer': 'https://www.google.com/',\n",
    "    'accept-language': 'en-US,en;q=0.9',\n",
    "    # Requests sorts cookies= alphabetically\n",
    "    # 'cookie': 'SID=KgipsdC3Yxa9m7JCFiSf9ERCriYX3tio-sdln7YpWH15A05EkNn3lzEaOxsxKB_j73HZ8Q.; __Secure-1PSID=KgipsdC3Yxa9m7JCFiSf9ERCriYX3tio-sdln7YpWH15A05EDjjIiujZe5PuNwI0jKTIUQ.; __Secure-3PSID=KgipsdC3Yxa9m7JCFiSf9ERCriYX3tio-sdln7YpWH15A05EgV9PEOK8KcjRZ-uQ-V6-3A.; HSID=A4EPy3YgwJXM51l6-; SSID=Ay5kAM2fDjIkfmpCX; APISID=Akv6x6eGTTq5dDC0/AMwo4EQGB5jsZRP11; SAPISID=Xdgah6CYZtLA1H0L/AlykPZRaBrmcFhebU; __Secure-1PAPISID=Xdgah6CYZtLA1H0L/AlykPZRaBrmcFhebU; __Secure-3PAPISID=Xdgah6CYZtLA1H0L/AlykPZRaBrmcFhebU; OTZ=6519179_34_34__34_; SEARCH_SAMESITE=CgQIwZUB; 1P_JAR=2022-05-25-06; NID=511=Vl8RZrmSnFRPwPAlCvStF4RZ5FRWrRCOngQ0jhVt8Lw5f-p8a-PyCbT_XdrJERuW932YfBn2AWGB6D_Msimu6gIBgM0eI47WAtWtHAiz6A3E3WoU8AaiRhsUlw3K9VBHTkS-DEXd6AEU96t60oe-ZIj9A9XVT1WKKIUdAsmHY5qhgRuqwst2Yif6s98aIFy8vMaoZ3K6rgU6hQCFbBU06M-hgy-ByRuvhph2V79vJBWXeT9Rcbh__pRmGnfv3K8Bh2oYngp2inVqlNxgxdqaFOvsrJWpFWIuC9JFJkCEAg; OGPC=19022519-1:; AEC=AakniGO1bomcWh2W_Hjby5dk15zIQE-zegTw55ljJQPb_rcF9eh_q2bycyM; SIDCC=AJi4QfHXY7354Db5dHXtuotnTXiDpiZeT500CGU_-gH7aV4aUGXrj6lieYU4l6U2tvWfhMWShA; __Secure-3PSIDCC=AJi4QfHU6C6zb0AcfqPm0l553V_uOB4y_wjFuhXD24na1ABfq53RoHU4_h1gW3rOAw0WAYzt6g',\n",
    "    }"
   ]
  },
  {
   "cell_type": "code",
   "execution_count": 31,
   "id": "0f8b8124",
   "metadata": {},
   "outputs": [
    {
     "name": "stdout",
     "output_type": "stream",
     "text": [
      "[[['how to download minecraft </b>java edition</b>', 0, [7, 30]], ['how to download </b>java', 0, [7, 30]], ['how to download minecraft </b>java edition for free</b>', 0, [7, 30]], ['how much is minecraft </b>java edition</b>', 0, [7, 30]], ['how java handles portability</b>', 0, [512]], ['how java is platform independent</b>', 0, [512]], ['how to download minecraft </b>java', 0, [7, 30]], ['how javascript works</b>', 0, [512]], ['how java is secure and portable</b>', 0, [512]], ['how java handle multiple inheritance</b>', 0, [512]]], {'q': 'eQgJSW1dyT5tguTycqUqT_4F8hI'}]\n",
      "\n",
      "'how to download minecraft java edition''how to download java''how to download minecraft java edition for free''how much is minecraft java edition''how java handles portability''how java is platform independent''how to download minecraft java''how javascript works''how java is secure and portable''how java handle multiple inheritance'\n"
     ]
    },
    {
     "name": "stderr",
     "output_type": "stream",
     "text": [
      "C:\\Users\\HP\\AppData\\Local\\Temp\\ipykernel_13920\\1154755802.py:13: DeprecationWarning: invalid escape sequence '\\/'\n",
      "  final_tuple = json.loads(html_to_text(json_suggestions1.encode('ascii').decode('unicode-escape')))\n"
     ]
    }
   ],
   "source": [
    "params = {\n",
    "    'q':search_query_list[0],\n",
    "    'cp':3,\n",
    "    'client':client,\n",
    "    'hl':\"{0}-{1}\".format(language, country_code),\n",
    "    'authuser':0,\n",
    "    'dpr':1,\n",
    "    }\n",
    "resp = requests.get(\"https://www.google.com/complete/search\", params = params, headers=headers)\n",
    "from posixpath import sep\n",
    "json_suggestions1 = resp.text.replace(\"window.google.ac.h(\", \"\")\n",
    "json_suggestions1 =  json_suggestions1[:-1]\n",
    "final_tuple = json.loads(html_to_text(json_suggestions1.encode('ascii').decode('unicode-escape')))\n",
    "print(final_tuple)\n",
    "f = open(\"myfile.txt\", \"w\")\n",
    "for x in final_tuple[0]:\n",
    "  f.writelines(repr(html_to_text(x[0])))\n",
    "  # print(repr(html_to_text(x[0])))\n",
    "f.close()\n",
    "print()\n",
    "f = open(\"myfile.txt\", \"r\")\n",
    "#('r’) opens the text files for reading only\n",
    "print(f.readline())"
   ]
  },
  {
   "cell_type": "code",
   "execution_count": 32,
   "id": "a7898ac7",
   "metadata": {},
   "outputs": [
    {
     "name": "stdout",
     "output_type": "stream",
     "text": [
      "[[['what java', 0, [512]], ['what javascript</b>', 0, [512]], ['what java developer do</b>', 0, [512]], ['what java is used for</b>', 0, [512]], ['what javascript is used for</b>', 0, [512]], ['what javascript can do</b>', 0, [512]], ['what java programming language</b>', 0, [512]], ['what java is platform independent</b>', 0, [512]], ['what javascript do</b>', 0, [512]], ['what java compiler does</b>', 0, [512]]], {'q': 'bQPEBiqKb8q78tBBUv1QDBwjv7M'}]\n",
      "\n",
      "'how to download minecraft java edition''how to download java''how to download minecraft java edition for free''how much is minecraft java edition''how java handles portability''how java is platform independent''how to download minecraft java''how javascript works''how java is secure and portable''how java handle multiple inheritance''what java''what javascript''what java developer do''what java is used for''what javascript is used for''what javascript can do''what java programming language''what java is platform independent''what javascript do''what java compiler does'\n"
     ]
    },
    {
     "name": "stderr",
     "output_type": "stream",
     "text": [
      "C:\\Users\\HP\\AppData\\Local\\Temp\\ipykernel_13920\\1639494258.py:13: DeprecationWarning: invalid escape sequence '\\/'\n",
      "  final_tuple = json.loads(html_to_text(json_suggestions2.encode('ascii').decode('unicode-escape')))\n"
     ]
    }
   ],
   "source": [
    "params = {\n",
    "    'q':search_query_list[1],\n",
    "    'cp':3,\n",
    "    'client':client,\n",
    "    'hl':\"{0}-{1}\".format(language, country_code),\n",
    "    'authuser':0,\n",
    "    'dpr':1,\n",
    "    }\n",
    "resp = requests.get(\"https://www.google.com/complete/search\", params = params, headers=headers)\n",
    "from posixpath import sep\n",
    "json_suggestions2 = resp.text.replace(\"window.google.ac.h(\", \"\")\n",
    "json_suggestions2 =  json_suggestions2[:-1]\n",
    "final_tuple = json.loads(html_to_text(json_suggestions2.encode('ascii').decode('unicode-escape')))\n",
    "print(final_tuple)\n",
    "f = open(\"myfile.txt\", \"a\")\n",
    "for x in final_tuple[0]:\n",
    "  f.writelines(repr(html_to_text(x[0])))\n",
    "  # print(repr(html_to_text(x[0])))\n",
    "f.close()\n",
    "print()\n",
    "f = open(\"myfile.txt\", \"r\")\n",
    "#('r’) opens the text files for reading only\n",
    "print(f.readline())"
   ]
  },
  {
   "cell_type": "code",
   "execution_count": 33,
   "id": "ab2ba7d8",
   "metadata": {},
   "outputs": [
    {
     "name": "stdout",
     "output_type": "stream",
     "text": [
      "[[['when java was developed</b>', 0, [512]], ['when javascript invented</b>', 0, [512]], ['when java invented</b>', 0, [512]], ['when java 8 released</b>', 0, [512]], ['when java thread is in running state</b>', 0, [512]], ['when java language was invented</b>', 0, [512]], ['when java was introduced</b>', 0, [512]], ['when java was released</b>', 0, [512]], ['when javascript onload event is detected</b>', 0, [512]], ['when java started</b>', 0, [512]]], {'q': 'juiuTme1cFlqj91SFB7XN4yiH_s'}]\n",
      "\n",
      "'how to download minecraft java edition''how to download java''how to download minecraft java edition for free''how much is minecraft java edition''how java handles portability''how java is platform independent''how to download minecraft java''how javascript works''how java is secure and portable''how java handle multiple inheritance''what java''what javascript''what java developer do''what java is used for''what javascript is used for''what javascript can do''what java programming language''what java is platform independent''what javascript do''what java compiler does''when java was developed''when javascript invented''when java invented''when java 8 released''when java thread is in running state''when java language was invented''when java was introduced''when java was released''when javascript onload event is detected''when java started'\n"
     ]
    },
    {
     "name": "stderr",
     "output_type": "stream",
     "text": [
      "C:\\Users\\HP\\AppData\\Local\\Temp\\ipykernel_13920\\2123296768.py:13: DeprecationWarning: invalid escape sequence '\\/'\n",
      "  final_tuple = json.loads(html_to_text(json_suggestions3.encode('ascii').decode('unicode-escape')))\n"
     ]
    }
   ],
   "source": [
    "params = {\n",
    "    'q':search_query_list[2],\n",
    "    'cp':3,\n",
    "    'client':client,\n",
    "    'hl':\"{0}-{1}\".format(language, country_code),\n",
    "    'authuser':0,\n",
    "    'dpr':1,\n",
    "    }\n",
    "resp = requests.get(\"https://www.google.com/complete/search\", params = params, headers=headers)\n",
    "from posixpath import sep\n",
    "json_suggestions3 = resp.text.replace(\"window.google.ac.h(\", \"\")\n",
    "json_suggestions3 =  json_suggestions3[:-1]\n",
    "final_tuple = json.loads(html_to_text(json_suggestions3.encode('ascii').decode('unicode-escape')))\n",
    "print(final_tuple)\n",
    "f = open(\"myfile.txt\", \"a\")\n",
    "for x in final_tuple[0]:\n",
    "  f.writelines(repr(html_to_text(x[0])))\n",
    "  # print(repr(html_to_text(x[0])))\n",
    "f.close()\n",
    "print()\n",
    "f = open(\"myfile.txt\", \"r\")\n",
    "#('r’) opens the text files for reading only\n",
    "print(f.readline())"
   ]
  },
  {
   "cell_type": "code",
   "execution_count": 34,
   "id": "5e53737b",
   "metadata": {},
   "outputs": [
    {
     "name": "stdout",
     "output_type": "stream",
     "text": [
      "[[['where java is used</b>', 0, [512]], ['where javascript is used</b>', 0, [512]], ['where java is used in real world</b>', 0, [512]], ['where java', 0, [512]], ['where java program run</b>', 0, [512]], ['where java language is used</b>', 0, [512]], ['where java command</b>', 0, [512]], ['where java programming is used</b>', 0, [512]], ['where java is used in web development</b>', 0, [512]], ['where java is installed in mac</b>', 0, [512]]], {'q': 'b5V3k-Y252mTrkdHe7s2n8ng1OM'}]\n",
      "\n",
      "'how to download minecraft java edition''how to download java''how to download minecraft java edition for free''how much is minecraft java edition''how java handles portability''how java is platform independent''how to download minecraft java''how javascript works''how java is secure and portable''how java handle multiple inheritance''what java''what javascript''what java developer do''what java is used for''what javascript is used for''what javascript can do''what java programming language''what java is platform independent''what javascript do''what java compiler does''when java was developed''when javascript invented''when java invented''when java 8 released''when java thread is in running state''when java language was invented''when java was introduced''when java was released''when javascript onload event is detected''when java started''where java is used''where javascript is used''where java is used in real world''where java''where java program run''where java language is used''where java command''where java programming is used''where java is used in web development''where java is installed in mac'\n"
     ]
    },
    {
     "name": "stderr",
     "output_type": "stream",
     "text": [
      "C:\\Users\\HP\\AppData\\Local\\Temp\\ipykernel_13920\\1075028789.py:13: DeprecationWarning: invalid escape sequence '\\/'\n",
      "  final_tuple = json.loads(html_to_text(json_suggestions3.encode('ascii').decode('unicode-escape')))\n"
     ]
    }
   ],
   "source": [
    "params = {\n",
    "    'q':search_query_list[3],\n",
    "    'cp':3,\n",
    "    'client':client,\n",
    "    'hl':\"{0}-{1}\".format(language, country_code),\n",
    "    'authuser':0,\n",
    "    'dpr':1,\n",
    "    }\n",
    "resp = requests.get(\"https://www.google.com/complete/search\", params = params, headers=headers)\n",
    "from posixpath import sep\n",
    "json_suggestions3 = resp.text.replace(\"window.google.ac.h(\", \"\")\n",
    "json_suggestions3 =  json_suggestions3[:-1]\n",
    "final_tuple = json.loads(html_to_text(json_suggestions3.encode('ascii').decode('unicode-escape')))\n",
    "print(final_tuple)\n",
    "f = open(\"myfile.txt\", \"a\")\n",
    "for x in final_tuple[0]:\n",
    "  f.writelines(repr(html_to_text(x[0])))\n",
    "  # print(repr(html_to_text(x[0])))\n",
    "f.close()\n",
    "print()\n",
    "f = open(\"myfile.txt\", \"r\")\n",
    "#('r’) opens the text files for reading only\n",
    "print(f.readline())"
   ]
  },
  {
   "cell_type": "code",
   "execution_count": 35,
   "id": "48c78c68",
   "metadata": {},
   "outputs": [
    {
     "name": "stdout",
     "output_type": "stream",
     "text": [
      "['Parse me!', 'This is P tag']\n"
     ]
    }
   ],
   "source": [
    "from html.parser import HTMLParser\n",
    "\n",
    "class MyHTMLParser(HTMLParser):\n",
    "\n",
    "    def __init__(self):\n",
    "        super().__init__()\n",
    "        self.data = []\n",
    "        self.capture = False\n",
    "\n",
    "    def handle_starttag(self, tag, attrs):\n",
    "        if tag in ('p', 'h1'):\n",
    "            self.capture = True\n",
    "#A boolean value indicating that events of this\n",
    "#  type will be dispatched to the registered listener before being dispatched to any EventTarget beneath it in the DOM tree. If not specified, defaults to false.\n",
    "    def handle_endtag(self, tag):\n",
    "        if tag in ('p', 'h1'):\n",
    "            self.capture = False\n",
    "\n",
    "    def handle_data(self, data):\n",
    "        if self.capture:\n",
    "            self.data.append(data)\n",
    "\n",
    "parser = MyHTMLParser()\n",
    "parser.feed('<html><head><title>Test</title></head>'\n",
    "            '<body><h1>Parse me!</h1><p>This is P tag</p></body></html>')\n",
    "\n",
    "print(parser.data)"
   ]
  },
  {
   "cell_type": "code",
   "execution_count": null,
   "id": "058f30e0",
   "metadata": {},
   "outputs": [],
   "source": []
  }
 ],
 "metadata": {
  "kernelspec": {
   "display_name": "Python 3 (ipykernel)",
   "language": "python",
   "name": "python3"
  },
  "language_info": {
   "codemirror_mode": {
    "name": "ipython",
    "version": 3
   },
   "file_extension": ".py",
   "mimetype": "text/x-python",
   "name": "python",
   "nbconvert_exporter": "python",
   "pygments_lexer": "ipython3",
   "version": "3.9.13"
  }
 },
 "nbformat": 4,
 "nbformat_minor": 5
}
